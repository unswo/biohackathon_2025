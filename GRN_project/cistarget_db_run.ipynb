{
 "cells": [
  {
   "cell_type": "markdown",
   "metadata": {},
   "source": [
    "!git clone https://github.com/aertslab/create_cisTarget_databases"
   ]
  },
  {
   "cell_type": "markdown",
   "metadata": {},
   "source": [
    "!wget https://resources.aertslab.org/cistarget/programs/cbust\n",
    "!chmod a+x cbust"
   ]
  },
  {
   "cell_type": "markdown",
   "metadata": {},
   "source": [
    "!mkdir -p aertslab_motif_colleciton\n",
    "!wget -O aertslab_motif_colleciton/v10nr_clust_public.zip https://resources.aertslab.org/cistarget/motif_collections/v10nr_clust_public/v10nr_clust_public.zip\n",
    "!cd aertslab_motif_colleciton; unzip -q v10nr_clust_public.zip\n",
    "!cd .."
   ]
  },
  {
   "cell_type": "code",
   "execution_count": 4,
   "metadata": {},
   "outputs": [],
   "source": [
    "!REGION_BED=\"outs/consensus_peak_calling/consensus_regions.bed\"\n",
    "!GENOME_FASTA=\"fasta/hg38.fa\"\n",
    "!CHROMSIZES=\"fasta/hg38.chrom.sizes\"\n",
    "!DATABASE_PREFIX=\"chen_bg_with_mask\"\n",
    "!SCRIPT_DIR=\"create_cisTarget_databases\"\n",
    "\n",
    "!create_cisTarget_databases/create_fasta_with_padded_bg_from_bed.sh fasta/hg38.fa fasta/hg38.chrom.sizes outs/consensus_peak_calling/consensus_regions.bed hg38.chen.with_1kb_bg_padding.fa 1000 yes"
   ]
  },
  {
   "cell_type": "code",
   "execution_count": 5,
   "metadata": {},
   "outputs": [
    {
     "name": "stdout",
     "output_type": "stream",
     "text": [
      ">chr1:822483-822983\n",
      "CCTGCCTATCCAGCAGGTCCACGCTGTCTACACTACCTGCTTGCCCAGAAGATCCACACTGTCTACACTACCTGCCTGGCCAGTAGATCCACGGTATCTACACTACCTCCCTGGCCAGCAGATTCACCCAGTCTACACTAACTGCTTGTCCAGCAGGTCCACCCTGTCTACACTACGTGCCTGCCAGCAGATCCAAGCTGTCTACACTACCTGCCTGGCCAGTAGATCCATGCTATCTCCACTACCTGCCTATCCAACTGATCCACCCTCTCTTTACTACCTTCCTGTCCGGCAGATTGACCCTCTCTACTCTACCTGCCTGGCCAGCAGATCCACGCTATCTACACTACCTGACTTACCAGATCCACCCTGTCTACACTACATGCTTGTCCAGCAGGTCCACCCTGTCTACACTACCTGCCTCTCCAGAAGATCCACCCTGTCTATACTACCTGCCTATCCAGCATATCTACCCTGTCTACACTACCTACCTGCCCAGCAGATCCACCCTGTCTTCACTACCTACCTAGCGAGCAGATCCACCCTGTCTACTCTACCTGCTTGTCCAGCAGGTCCACCCTGTCTACACTACCTGCCTGTCCAGCAAATCCACTCTGTCTACACTACCTGGCTGTCCAGCAGATCCACCCTGTCTACACTACCTGCCTATCCAGCAGATCCACCCTGTCTATACTACCTGCCTGTCTAGCAGATCCACCCTGTCTATACTACCTGCCCATCCAGCAGGTCCACCCTGTCTACACTACCTCCCTGCCGAGTAGATCCACCCTGTCTACACTACCTGCCTGGCCAGAAGATCCACCCTGTCTACACTACCTTCCTTGCCAGTAATGCACGCTATCTACACTACCTGCCTGGCTAGCAGATCCACGCTGTCTATACTACCTCCCTGTCCAGTAGACCCACCCTGTCTATACTACCTCCCTGGCCAGCAGATCCACCCTGTCTATACTACCTGCCTGGCCAGCAGATCCACCCTGTCTATACTACCTGACTGGCCAGCAGATCCACCCTGTCTACACTACCTGCCTGCCCAGAAGATGCGCCATGTCTACACTACCTGCTTGTCCAGCAGATCCACCCTGTCTACACTAGCTGCCTGTCCAGCATGTCCACCCTATCTACACTACCTGCCTGTCCAGCAGATCCACCCTGTCTATACTACCTGCCTATCCAGCAGATCTACCCTGTCTACACTACCTGCCTGCTCAGCAGATCCACCCTGTCTATACTAACTGCCTGGCCAGCAGATCCACGCTATCTACACTACCTGCCTGGCGAGCAGATCCACCCTGTCTACACTACCTGCTTGCCCAGCAGGTCCACCCTATCTACACTACCTGCCTGCCCAGCAGATCCGCCCTGTCTGTACTACCTGCCTGGCCAGCAGATCCACCCTGTCTACACTACCTGCCTGCCCAGCAGATCCACCCTGTCCATACTACCTGCCTGGCCAGTAGATTCACGCTATCTACTCTACCTGTATGGCCAGCAGATCCACTCTGTCTATACTACCTGCCTGTCAAGCAGGTCCACCCTGTCTACACTACCTACCTGGCCAGTAGATCCACACTATCTACACTACCTGCCTGTCCAGCAGATCCACCCTGTCTATACTACCTAACTGTCGAGCAGATGCACCCTGTCTATACTACCTGCCTATCCTGCAGGTCCACCTTGTCTACACTACCTGCCTGCCCAGCAGATCCACCCTGTCTACACTACCTGCCTGTCCAGCAGACCCGCCCTTTCTATACTACCTGCCTGGCCAGCACATCCGCCCTGTCTATACTACCGGCCTGTCCAGCAGATCCACTCTGTCTATACTACCTGCCTGTCCAGCAGATCCATCCTGTCTACACTACCTGCCTACCCAACAGATCCACCCTGTCTACACTACCTGCCTGGCCAGTAGATCCATGCTATCTACACTACCTGCCTGGCCGGCAGATCCACTCTGTCTACACTGCCTGCTTGTCCAGCAGGTCCACCCTGTCTACACTACCTGCCTGCCCAGCAGATCCACCCTGTCTACACTACCTGCCTGGCCAGTAGATCCACGCTATCTATACTACCTGGCTGGCCAGCAGATCCACCCTGTCTATACTACCTGCCTGTCCAGCAGATCCACCCTGTCTCTAATACCTGCCTGTCCAGCAACATTAGTCCTTAAAAAAAGCAAACACACAAAATCAGTGTCTATTTACAACAGCCAAATATTATGACTACGATTTGAAATAAATTTGTAGACCCATGTAAATAAATTTTAAAACTCAATGAGGATATAAAAATGACATGAATAAAGCCTGAAAATCATATTATTAGAATGGAGGACATAGTGACATAAAACCTCAGTGACTGTAGACTCAGGGCAACCTAGACTTAAAAGTCCCATGTGGTCTTTTACATGTAAAAAATGAGAATTAGTCTAAAAGTCAATTTTGTCTAAATTTTGATTTTTGGTGAGTATACAGTCAAA\n"
     ]
    }
   ],
   "source": [
    "!head -n 2 hg38.chen.with_1kb_bg_padding.fa"
   ]
  },
  {
   "cell_type": "code",
   "execution_count": 6,
   "metadata": {},
   "outputs": [],
   "source": [
    "!ls aertslab_motif_colleciton/v10nr_clust_public/singletons > motifs.txt"
   ]
  },
  {
   "cell_type": "code",
   "execution_count": 8,
   "metadata": {},
   "outputs": [
    {
     "name": "stdout",
     "output_type": "stream",
     "text": [
      "Initialize dataframe (217725 regions x 10249 motifs) for storing CRM scores for each regions per motif.\n",
      "^C\n",
      "Process ForkPoolWorker-18:\n",
      "Process ForkPoolWorker-19:\n",
      "Process ForkPoolWorker-3:\n",
      "Process ForkPoolWorker-5:\n",
      "Process ForkPoolWorker-12:\n",
      "Process ForkPoolWorker-10:\n",
      "Process ForkPoolWorker-4:\n",
      "Process ForkPoolWorker-7:\n",
      "Process ForkPoolWorker-2:\n",
      "Process ForkPoolWorker-15:\n",
      "Process ForkPoolWorker-20:\n",
      "Process ForkPoolWorker-17:\n",
      "Traceback (most recent call last):\n",
      "  File \"/data/adrienne/phd/biohackathon_2025/GRN_project/create_cisTarget_databases/create_cistarget_motif_databases.py\", line 572, in <module>\n",
      "    main()\n",
      "  File \"/data/adrienne/phd/biohackathon_2025/GRN_project/create_cisTarget_databases/create_cistarget_motif_databases.py\", line 459, in main\n",
      "    pool.join()\n",
      "  File \"/home/adrienne/mambaforge/envs/scenicplus/lib/python3.11/multiprocessing/pool.py\", line 665, in join\n",
      "    self._worker_handler.join()\n",
      "  File \"/home/adrienne/mambaforge/envs/scenicplus/lib/python3.11/threading.py\", line 1119, in join\n",
      "    self._wait_for_tstate_lock()\n",
      "  File \"/home/adrienne/mambaforge/envs/scenicplus/lib/python3.11/threading.py\", line 1139, in _wait_for_tstate_lock\n",
      "    if lock.acquire(block, timeout):\n",
      "       ^^^^^^^^^^^^^^^^^^^^^^^^^^^^\n",
      "KeyboardInterrupt\n"
     ]
    }
   ],
   "source": [
    "!OUT_DIR=\"\"${PWD}\"\"\n",
    "!CBDIR=\"${OUT_DIR}/\"\n",
    "!FASTA_FILE=\"${OUT_DIR}/hg38.chen.with_1kb_bg_padding.fa\"\n",
    "!MOTIF_LIST=\"${OUT_DIR}/motifs.txt\"\n",
    "\n",
    "!create_cisTarget_databases/create_cistarget_motif_databases.py -f hg38.chen.with_1kb_bg_padding.fa -M aertslab_motif_colleciton/v10nr_clust_public/singletons -m motifs.txt -o db --bgpadding 1000 -t 20"
   ]
  }
 ],
 "metadata": {
  "kernelspec": {
   "display_name": "scenicplus",
   "language": "python",
   "name": "python3"
  },
  "language_info": {
   "codemirror_mode": {
    "name": "ipython",
    "version": 3
   },
   "file_extension": ".py",
   "mimetype": "text/x-python",
   "name": "python",
   "nbconvert_exporter": "python",
   "pygments_lexer": "ipython3",
   "version": "3.11.8"
  }
 },
 "nbformat": 4,
 "nbformat_minor": 2
}
