{
 "cells": [
  {
   "cell_type": "code",
   "execution_count": null,
   "metadata": {},
   "outputs": [],
   "source": [
    "import logging\n",
    "import pandas as pd\n",
    "\n",
    "from multiqc.base_module import BaseMultiqcModule, ModuleNoSamplesFound\n",
    "from multiqc.plots import bargraph, box, linegraph, scatter, table\n",
    "from multiqc.plots.table_object import ColumnDict, TableConfig\n",
    "from multiqc.utils import mqc_colour\n",
    "\n",
    "\n",
    "log = logging.getLogger(__name__)"
   ]
  },
  {
   "cell_type": "code",
   "execution_count": 11,
   "metadata": {},
   "outputs": [
    {
     "data": {
      "text/plain": [
       "['Sample ID',\n",
       " 'Number of Reads',\n",
       " 'Valid Barcodes',\n",
       " 'Valid UMI Sequences',\n",
       " 'Sequencing Saturation',\n",
       " 'Q30 Bases in Barcode',\n",
       " 'Q30 Bases in Probe Read',\n",
       " 'Q30 Bases in UMI',\n",
       " 'Reads Mapped to Probe Set',\n",
       " 'Reads Mapped Confidently to Probe Set',\n",
       " 'Fraction Reads in Squares Under Tissue',\n",
       " 'Genes Detected',\n",
       " 'Reads Mapped Confidently to the Filtered Probe Set',\n",
       " 'Number of Genes',\n",
       " 'Reads Half-Mapped to Probe Set',\n",
       " 'Reads Split-Mapped to Probe Set',\n",
       " 'Estimated UMIs from Genomic DNA',\n",
       " 'Estimated UMIs from Genomic DNA per Unspliced Probe',\n",
       " 'Number of Squares Under Tissue 2 µm',\n",
       " 'Mean Reads Under Tissue per Square 2 µm',\n",
       " 'Fraction of Squares Under Tissue 2 µm',\n",
       " 'Mean Genes Under Tissue per Square 2 µm',\n",
       " 'Mean UMIs Under Tissue per Square 2 µm',\n",
       " 'Total Genes Detected Under Tissue 2 µm',\n",
       " 'Number of Bins Under Tissue 8 µm',\n",
       " 'Mean Reads Under Tissue per Bin 8 µm',\n",
       " 'Fraction of Bins Under Tissue 8 µm',\n",
       " 'Mean Genes Under Tissue per Bin 8 µm',\n",
       " 'Mean UMIs Under Tissue per Bin 8 µm',\n",
       " 'Total Genes Detected Under Tissue 8 µm',\n",
       " 'UMIs per sq mm of Tissue',\n",
       " 'Reads per sq mm of Tissue',\n",
       " 'Number of Bins Under Tissue 16 µm',\n",
       " 'Mean Reads Under Tissue per Bin 16 µm',\n",
       " 'Fraction of Bins Under Tissue 16 µm',\n",
       " 'Mean Genes Under Tissue per Bin 16 µm',\n",
       " 'Mean UMIs Under Tissue per Bin 16 µm',\n",
       " 'Total Genes Detected Under Tissue 16 µm',\n",
       " 'Number of Cells',\n",
       " 'Reads in Cells',\n",
       " 'UMIs in Cells',\n",
       " 'Mean Reads per Cell',\n",
       " 'Median Genes per Cell',\n",
       " 'Median UMIs per Cell',\n",
       " 'Median Cell Area (μm²)',\n",
       " 'Median Nucleus Area (μm²)',\n",
       " 'Maximum Nucleus Diameter (pixels)\\n']"
      ]
     },
     "execution_count": 11,
     "metadata": {},
     "output_type": "execute_result"
    }
   ],
   "source": [
    "with open('/home/adrienne/data/phd/biohackathon_2025/MultiQC_project/data/Visium_HD_Human_Pancreas_metrics_summary.csv') as f:\n",
    "    lines = f.readlines()\n",
    "#lines = f[\"f\"].read().splitlines()\n",
    "#if len(lines) < 2:\n",
    "#    return {}\n",
    "\n",
    "# Get header and data row\n",
    "header = lines[0].split(\",\")\n",
    "data_row = lines[1].split(\",\")\n",
    "if len(header) != len(data_row):\n",
    "    log.warning(f\"Header and data row lengths don't match in {f['fn']}\")\n",
    "#    return {}\n",
    "\n",
    "# Create mapping of headers to values\n",
    "metrics = dict(zip(header, data_row))\n",
    "metrics\n",
    "list(metrics.keys())"
   ]
  },
  {
   "cell_type": "code",
   "execution_count": 12,
   "metadata": {},
   "outputs": [
    {
     "data": {
      "text/plain": [
       "['Sample ID',\n",
       " 'Number of Spots Under Tissue',\n",
       " 'Number of Reads',\n",
       " 'Mean Reads per Spot',\n",
       " 'Mean Reads Under Tissue per Spot',\n",
       " 'Fraction of Spots Under Tissue',\n",
       " 'Median Genes per Spot',\n",
       " 'Median UMI Counts per Spot',\n",
       " 'Valid Barcodes',\n",
       " 'Valid UMIs',\n",
       " 'Sequencing Saturation',\n",
       " 'Q30 Bases in Barcode',\n",
       " 'Q30 Bases in RNA Read',\n",
       " 'Q30 Bases in UMI',\n",
       " 'Reads Mapped to Genome',\n",
       " 'Reads Mapped Confidently to Genome',\n",
       " 'Reads Mapped Confidently to Intergenic Regions',\n",
       " 'Reads Mapped Confidently to Intronic Regions',\n",
       " 'Reads Mapped Confidently to Exonic Regions',\n",
       " 'Reads Mapped Confidently to Transcriptome',\n",
       " 'Reads Mapped Antisense to Gene',\n",
       " 'Fraction Reads in Spots Under Tissue',\n",
       " 'Total Genes Detected\\n']"
      ]
     },
     "execution_count": 12,
     "metadata": {},
     "output_type": "execute_result"
    }
   ],
   "source": [
    "with open('/home/adrienne/data/phd/biohackathon_2025/MultiQC_project/data/Parent_Visium_Human_Glioblastoma_metrics_summary.csv') as f:\n",
    "    lines = f.readlines()\n",
    "#lines = f[\"f\"].read().splitlines()\n",
    "#if len(lines) < 2:\n",
    "#    return {}\n",
    "\n",
    "# Get header and data row\n",
    "header = lines[0].split(\",\")\n",
    "data_row = lines[1].split(\",\")\n",
    "if len(header) != len(data_row):\n",
    "    log.warning(f\"Header and data row lengths don't match in {f['fn']}\")\n",
    "#    return {}\n",
    "\n",
    "# Create mapping of headers to values\n",
    "metrics = dict(zip(header, data_row))\n",
    "metrics\n",
    "list(metrics.keys())"
   ]
  }
 ],
 "metadata": {
  "kernelspec": {
   "display_name": "biohack_multiqc",
   "language": "python",
   "name": "python3"
  },
  "language_info": {
   "codemirror_mode": {
    "name": "ipython",
    "version": 3
   },
   "file_extension": ".py",
   "mimetype": "text/x-python",
   "name": "python",
   "nbconvert_exporter": "python",
   "pygments_lexer": "ipython3",
   "version": "3.10.18"
  }
 },
 "nbformat": 4,
 "nbformat_minor": 2
}
